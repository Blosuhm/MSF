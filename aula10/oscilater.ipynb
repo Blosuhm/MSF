{
 "cells": [
  {
   "attachments": {},
   "cell_type": "markdown",
   "metadata": {},
   "source": [
    "Uma mola exerce uma força $F_x=-kx(t)$ , em que $k$ é a constante elástica da mola, num corpo de massa $m$.\n",
    "Considere $k = 1$ N/m e $m = 1$ kg.<br/>\n",
    "Considerando a lei do movimento $x(t) = A\\cos(\\sqrt{\\frac kmt+\\phi})$ calcule $A$ e $\\phi$, sabendo:"
   ]
  },
  {
   "attachments": {},
   "cell_type": "markdown",
   "metadata": {},
   "source": [
    "a) que a velocidade inicial é nula e a posição inicial é 4 m.\n",
    "\n",
    "$\n",
    "\\frac{dx(t)}{dt} = -kx/m\n",
    "$"
   ]
  }
 ],
 "metadata": {
  "language_info": {
   "name": "python"
  },
  "orig_nbformat": 4
 },
 "nbformat": 4,
 "nbformat_minor": 2
}
