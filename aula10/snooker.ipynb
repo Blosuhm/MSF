{
 "cells": [
  {
   "attachments": {},
   "cell_type": "markdown",
   "metadata": {},
   "source": [
    "# Jogo de snooker\n",
    "\n",
    "Num jogo de snooker, um jogador vai jogar a bola azul contra a amarela de modo a que a bola amarela caia na\n",
    "bolsa do canto direito. Para tal a bola amarela tem de sair da colisão com a bola azul a fazer um ângulo de $\\phi$ = 35°.\n",
    "Não considere o atrito e a resistência do ar, de modo que a colisão é elástica.\n",
    "A bola azul bate na amarela com a velocidade de 1 m/s\n",
    "\n",
    "![Balls](./images/ball-bounce.png)\n",
    "\n",
    "$\\phi = 35º$<br/>\n",
    "$v = 1 m/s$\n"
   ]
  },
  {
   "attachments": {},
   "cell_type": "markdown",
   "metadata": {},
   "source": [
    "a) O ângulo $\\theta$ que a bola azul faz com a direção inicial.\n",
    "Pista: Eleve ao quadrado a expressão vetorial da lei de conservação do momento e considere a conservação da energia\n",
    "mecânica total.\n",
    "\n",
    "$V_{Ai}² = V_{Af}² + V_{Bf}²$\n",
    "\n",
    "$V_{Ai}² = V_{Af}² + V_{Bf}² + 2V_{Af}V_{Bf}(\\cos{\\theta}\\cos{\\phi} -\\sin{\\theta}\\sin{\\phi} )$\n",
    "\n",
    "$0 = 2V_{Af}V_{Bf}\\cos(\\phi+\\theta)$\n",
    "\n",
    "$\\phi +\\theta = 90º$\n",
    "\n",
    "**Resposta**:<br>\n",
    "$\\theta = 90º-35º=55º$\n"
   ]
  },
  {
   "attachments": {},
   "cell_type": "markdown",
   "metadata": {},
   "source": [
    "b) O ângulo que as duas bolas fazem após a colisão depende do impacto da colisão (velocidade da bola azul e o local\n",
    "da bola amarela que sofreu a colisão)?\n",
    "\n",
    "**Resposta**:<br/>\n",
    "*O ângulo entre as duas bolas é sempre 90º independentemente do impacto*\n"
   ]
  },
  {
   "attachments": {},
   "cell_type": "markdown",
   "metadata": {},
   "source": [
    "c) A velocidade da bola azul depois da colisão.\n",
    "\n",
    "$0 = V_{Af}\\cos\\phi + V_{Bf}\\sin\\phi$\n",
    "\n",
    "$V_{Af} = V_{Bf}\\frac{\\sin\\phi}{\\cos\\phi} = V_{Bf}\\tan\\phi$\n",
    "\n",
    "Now:\n",
    "\n",
    "$V_{Ai} = V_{Af}\\sin\\phi + V_{Bf}\\cos\\phi$\n",
    "\n",
    "$V_{Ai} = V_{Bf}\\tan\\phi\\sin\\phi + V_{Bf}\\cos\\phi$\n",
    "\n",
    "$V_{Bf} = \\frac{V_{Ai}}{\\tan\\phi\\sin\\phi+\\cos\\phi}$\n",
    "\n",
    "$V_{Bf} = \\frac{V_{Ai}\\cos\\phi}{(\\tan\\phi\\sin\\phi+\\cos\\phi)\\cos\\phi}$\n",
    "\n",
    "$V_{Bf} = \\frac{V_{Ai}\\cos\\phi}{(\\frac{\\sin\\phi}{\\cancel{\\cos\\phi}}\\sin\\phi\\cancel{\\cos\\phi}+\\cos²\\phi)}$\n",
    "\n",
    "$V_{Bf} = V_{Ai}\\cos\\phi$\n",
    "\n",
    "Finally:\n",
    "\n",
    "$V_{Af} = V_{Ai}\\sin\\phi$\n",
    "\n",
    "Resposta:\n",
    "$V_{Af} = \\sin{35º}$"
   ]
  },
  {
   "attachments": {},
   "cell_type": "markdown",
   "metadata": {},
   "source": [
    "d) A velocidade da bola amarela depois da colisão.\n",
    "\n",
    "Resposta:\n",
    "$V_{Bf} = \\cos{35º}$"
   ]
  }
 ],
 "metadata": {
  "kernelspec": {
   "display_name": "Python 3",
   "language": "python",
   "name": "python3"
  },
  "language_info": {
   "codemirror_mode": {
    "name": "ipython",
    "version": 3
   },
   "file_extension": ".py",
   "mimetype": "text/x-python",
   "name": "python",
   "nbconvert_exporter": "python",
   "pygments_lexer": "ipython3",
   "version": "3.10.6"
  },
  "orig_nbformat": 4
 },
 "nbformat": 4,
 "nbformat_minor": 2
}
